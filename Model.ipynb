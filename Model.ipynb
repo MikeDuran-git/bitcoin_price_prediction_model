{
 "cells": [
  {
   "cell_type": "markdown",
   "metadata": {},
   "source": [
    "# Libraries"
   ]
  },
  {
   "cell_type": "code",
   "execution_count": 1,
   "metadata": {},
   "outputs": [],
   "source": [
    "import numpy as np\n",
    "import pandas as pd\n",
    "import matplotlib.pyplot as plt\n",
    "import seaborn as sns\n",
    "from sklearn.preprocessing import StandardScaler\n",
    "from sklearn.linear_model import LinearRegression\n",
    "import tensorflow as tf"
   ]
  },
  {
   "cell_type": "markdown",
   "metadata": {},
   "source": [
    "# Data Analysis\n"
   ]
  },
  {
   "cell_type": "markdown",
   "metadata": {},
   "source": [
    "At first i need to witness if there are missing values inside of our training set."
   ]
  },
  {
   "cell_type": "code",
   "execution_count": 2,
   "metadata": {},
   "outputs": [],
   "source": [
    "raw_training_data=pd.read_csv(\"bitcoin_price_Training - Training.csv\")\n",
    "raw_test_data=pd.read_csv(\"bitcoin_price_1week_Test - Test.csv\")"
   ]
  },
  {
   "cell_type": "code",
   "execution_count": 3,
   "metadata": {},
   "outputs": [
    {
     "data": {
      "text/html": [
       "<div>\n",
       "<style scoped>\n",
       "    .dataframe tbody tr th:only-of-type {\n",
       "        vertical-align: middle;\n",
       "    }\n",
       "\n",
       "    .dataframe tbody tr th {\n",
       "        vertical-align: top;\n",
       "    }\n",
       "\n",
       "    .dataframe thead th {\n",
       "        text-align: right;\n",
       "    }\n",
       "</style>\n",
       "<table border=\"1\" class=\"dataframe\">\n",
       "  <thead>\n",
       "    <tr style=\"text-align: right;\">\n",
       "      <th></th>\n",
       "      <th>Date</th>\n",
       "      <th>Open</th>\n",
       "      <th>High</th>\n",
       "      <th>Low</th>\n",
       "      <th>Close</th>\n",
       "      <th>Volume</th>\n",
       "      <th>Market Cap</th>\n",
       "    </tr>\n",
       "  </thead>\n",
       "  <tbody>\n",
       "    <tr>\n",
       "      <th>0</th>\n",
       "      <td>Jul 31, 2017</td>\n",
       "      <td>2763.24</td>\n",
       "      <td>2889.62</td>\n",
       "      <td>2720.61</td>\n",
       "      <td>2875.34</td>\n",
       "      <td>860,575,000</td>\n",
       "      <td>45,535,800,000</td>\n",
       "    </tr>\n",
       "    <tr>\n",
       "      <th>1</th>\n",
       "      <td>Jul 30, 2017</td>\n",
       "      <td>2724.39</td>\n",
       "      <td>2758.53</td>\n",
       "      <td>2644.85</td>\n",
       "      <td>2757.18</td>\n",
       "      <td>705,943,000</td>\n",
       "      <td>44,890,700,000</td>\n",
       "    </tr>\n",
       "    <tr>\n",
       "      <th>2</th>\n",
       "      <td>Jul 29, 2017</td>\n",
       "      <td>2807.02</td>\n",
       "      <td>2808.76</td>\n",
       "      <td>2692.80</td>\n",
       "      <td>2726.45</td>\n",
       "      <td>803,746,000</td>\n",
       "      <td>46,246,700,000</td>\n",
       "    </tr>\n",
       "    <tr>\n",
       "      <th>3</th>\n",
       "      <td>Jul 28, 2017</td>\n",
       "      <td>2679.73</td>\n",
       "      <td>2897.45</td>\n",
       "      <td>2679.73</td>\n",
       "      <td>2809.01</td>\n",
       "      <td>1,380,100,000</td>\n",
       "      <td>44,144,400,000</td>\n",
       "    </tr>\n",
       "    <tr>\n",
       "      <th>4</th>\n",
       "      <td>Jul 27, 2017</td>\n",
       "      <td>2538.71</td>\n",
       "      <td>2693.32</td>\n",
       "      <td>2529.34</td>\n",
       "      <td>2671.78</td>\n",
       "      <td>789,104,000</td>\n",
       "      <td>41,816,500,000</td>\n",
       "    </tr>\n",
       "    <tr>\n",
       "      <th>...</th>\n",
       "      <td>...</td>\n",
       "      <td>...</td>\n",
       "      <td>...</td>\n",
       "      <td>...</td>\n",
       "      <td>...</td>\n",
       "      <td>...</td>\n",
       "      <td>...</td>\n",
       "    </tr>\n",
       "    <tr>\n",
       "      <th>1551</th>\n",
       "      <td>May 02, 2013</td>\n",
       "      <td>116.38</td>\n",
       "      <td>125.60</td>\n",
       "      <td>92.28</td>\n",
       "      <td>105.21</td>\n",
       "      <td>-</td>\n",
       "      <td>1,292,190,000</td>\n",
       "    </tr>\n",
       "    <tr>\n",
       "      <th>1552</th>\n",
       "      <td>May 01, 2013</td>\n",
       "      <td>139.00</td>\n",
       "      <td>139.89</td>\n",
       "      <td>107.72</td>\n",
       "      <td>116.99</td>\n",
       "      <td>-</td>\n",
       "      <td>1,542,820,000</td>\n",
       "    </tr>\n",
       "    <tr>\n",
       "      <th>1553</th>\n",
       "      <td>Apr 30, 2013</td>\n",
       "      <td>144.00</td>\n",
       "      <td>146.93</td>\n",
       "      <td>134.05</td>\n",
       "      <td>139.00</td>\n",
       "      <td>-</td>\n",
       "      <td>1,597,780,000</td>\n",
       "    </tr>\n",
       "    <tr>\n",
       "      <th>1554</th>\n",
       "      <td>Apr 29, 2013</td>\n",
       "      <td>134.44</td>\n",
       "      <td>147.49</td>\n",
       "      <td>134.00</td>\n",
       "      <td>144.54</td>\n",
       "      <td>-</td>\n",
       "      <td>1,491,160,000</td>\n",
       "    </tr>\n",
       "    <tr>\n",
       "      <th>1555</th>\n",
       "      <td>Apr 28, 2013</td>\n",
       "      <td>135.30</td>\n",
       "      <td>135.98</td>\n",
       "      <td>132.10</td>\n",
       "      <td>134.21</td>\n",
       "      <td>-</td>\n",
       "      <td>1,500,520,000</td>\n",
       "    </tr>\n",
       "  </tbody>\n",
       "</table>\n",
       "<p>1556 rows × 7 columns</p>\n",
       "</div>"
      ],
      "text/plain": [
       "              Date     Open     High      Low    Close         Volume  \\\n",
       "0     Jul 31, 2017  2763.24  2889.62  2720.61  2875.34    860,575,000   \n",
       "1     Jul 30, 2017  2724.39  2758.53  2644.85  2757.18    705,943,000   \n",
       "2     Jul 29, 2017  2807.02  2808.76  2692.80  2726.45    803,746,000   \n",
       "3     Jul 28, 2017  2679.73  2897.45  2679.73  2809.01  1,380,100,000   \n",
       "4     Jul 27, 2017  2538.71  2693.32  2529.34  2671.78    789,104,000   \n",
       "...            ...      ...      ...      ...      ...            ...   \n",
       "1551  May 02, 2013   116.38   125.60    92.28   105.21              -   \n",
       "1552  May 01, 2013   139.00   139.89   107.72   116.99              -   \n",
       "1553  Apr 30, 2013   144.00   146.93   134.05   139.00              -   \n",
       "1554  Apr 29, 2013   134.44   147.49   134.00   144.54              -   \n",
       "1555  Apr 28, 2013   135.30   135.98   132.10   134.21              -   \n",
       "\n",
       "          Market Cap  \n",
       "0     45,535,800,000  \n",
       "1     44,890,700,000  \n",
       "2     46,246,700,000  \n",
       "3     44,144,400,000  \n",
       "4     41,816,500,000  \n",
       "...              ...  \n",
       "1551   1,292,190,000  \n",
       "1552   1,542,820,000  \n",
       "1553   1,597,780,000  \n",
       "1554   1,491,160,000  \n",
       "1555   1,500,520,000  \n",
       "\n",
       "[1556 rows x 7 columns]"
      ]
     },
     "execution_count": 3,
     "metadata": {},
     "output_type": "execute_result"
    }
   ],
   "source": [
    "data=raw_training_data.copy()\n",
    "data"
   ]
  },
  {
   "cell_type": "code",
   "execution_count": 4,
   "metadata": {},
   "outputs": [
    {
     "name": "stderr",
     "output_type": "stream",
     "text": [
      "C:\\Users\\MIKED\\Anaconda3\\envs\\tensorflow\\lib\\site-packages\\ipykernel_launcher.py:4: SettingWithCopyWarning: \n",
      "A value is trying to be set on a copy of a slice from a DataFrame\n",
      "\n",
      "See the caveats in the documentation: http://pandas.pydata.org/pandas-docs/stable/user_guide/indexing.html#returning-a-view-versus-a-copy\n",
      "  after removing the cwd from sys.path.\n"
     ]
    },
    {
     "data": {
      "text/plain": [
       "Date            0\n",
       "Open            0\n",
       "High            0\n",
       "Low             0\n",
       "Close           0\n",
       "Volume        243\n",
       "Market Cap      0\n",
       "dtype: int64"
      ]
     },
     "execution_count": 4,
     "metadata": {},
     "output_type": "execute_result"
    }
   ],
   "source": [
    "for column in data.columns:\n",
    "    for row in range(0,data.shape[0]):\n",
    "         if data[column][row]==\"-\" :\n",
    "            data[column][row]=None\n",
    "data.isnull().sum()"
   ]
  },
  {
   "cell_type": "markdown",
   "metadata": {},
   "source": [
    "We will remove all of the None values of the Volume column replace it with the mean"
   ]
  },
  {
   "cell_type": "code",
   "execution_count": 5,
   "metadata": {},
   "outputs": [
    {
     "data": {
      "text/plain": [
       "0       8.605750e+08\n",
       "1       7.059430e+08\n",
       "2       8.037460e+08\n",
       "3       1.380100e+09\n",
       "4       7.891040e+08\n",
       "            ...     \n",
       "1551    4.686270e+07\n",
       "1552    4.686270e+07\n",
       "1553    4.686270e+07\n",
       "1554    4.686270e+07\n",
       "1555    4.686270e+07\n",
       "Name: Volume, Length: 1556, dtype: float64"
      ]
     },
     "execution_count": 5,
     "metadata": {},
     "output_type": "execute_result"
    }
   ],
   "source": [
    "X_train=raw_training_data['Volume'].str.replace(\",\",\"\")\n",
    "for i in range(0,len(X_train)):\n",
    "    if X_train[i] != \"-\":\n",
    "        X_train[i]=float(X_train[i])\n",
    "\n",
    "X_train=X_train.replace(\"-\",None)\n",
    "X_train=X_train.fillna(X_train.mean())\n",
    "raw_training_data['Volume']=X_train\n",
    "X_train"
   ]
  },
  {
   "cell_type": "code",
   "execution_count": 6,
   "metadata": {},
   "outputs": [
    {
     "data": {
      "text/plain": [
       "0       4.55358e+10\n",
       "1       4.48907e+10\n",
       "2       4.62467e+10\n",
       "3       4.41444e+10\n",
       "4       4.18165e+10\n",
       "           ...     \n",
       "1551    1.29219e+09\n",
       "1552    1.54282e+09\n",
       "1553    1.59778e+09\n",
       "1554    1.49116e+09\n",
       "1555    1.50052e+09\n",
       "Name: Market Cap, Length: 1556, dtype: object"
      ]
     },
     "execution_count": 6,
     "metadata": {},
     "output_type": "execute_result"
    }
   ],
   "source": [
    "X_train=raw_training_data[\"Market Cap\"].str.replace(\",\",\"\")\n",
    "\n",
    "for i in range(0,len(X_train)):\n",
    "    if X_train[i] != \"-\":\n",
    "        X_train[i]=float(X_train[i])\n",
    "\n",
    "X_train=X_train.replace(\"-\",None)\n",
    "raw_training_data['Market Cap']=X_train\n",
    "X_train"
   ]
  },
  {
   "cell_type": "code",
   "execution_count": 7,
   "metadata": {},
   "outputs": [
    {
     "data": {
      "text/html": [
       "<div>\n",
       "<style scoped>\n",
       "    .dataframe tbody tr th:only-of-type {\n",
       "        vertical-align: middle;\n",
       "    }\n",
       "\n",
       "    .dataframe tbody tr th {\n",
       "        vertical-align: top;\n",
       "    }\n",
       "\n",
       "    .dataframe thead th {\n",
       "        text-align: right;\n",
       "    }\n",
       "</style>\n",
       "<table border=\"1\" class=\"dataframe\">\n",
       "  <thead>\n",
       "    <tr style=\"text-align: right;\">\n",
       "      <th></th>\n",
       "      <th>Date</th>\n",
       "      <th>Open</th>\n",
       "      <th>High</th>\n",
       "      <th>Low</th>\n",
       "      <th>Close</th>\n",
       "      <th>Volume</th>\n",
       "      <th>Market Cap</th>\n",
       "    </tr>\n",
       "  </thead>\n",
       "  <tbody>\n",
       "    <tr>\n",
       "      <th>0</th>\n",
       "      <td>Jul 31, 2017</td>\n",
       "      <td>2763.24</td>\n",
       "      <td>2889.62</td>\n",
       "      <td>2720.61</td>\n",
       "      <td>2875.34</td>\n",
       "      <td>8.605750e+08</td>\n",
       "      <td>4.55358e+10</td>\n",
       "    </tr>\n",
       "    <tr>\n",
       "      <th>1</th>\n",
       "      <td>Jul 30, 2017</td>\n",
       "      <td>2724.39</td>\n",
       "      <td>2758.53</td>\n",
       "      <td>2644.85</td>\n",
       "      <td>2757.18</td>\n",
       "      <td>7.059430e+08</td>\n",
       "      <td>4.48907e+10</td>\n",
       "    </tr>\n",
       "    <tr>\n",
       "      <th>2</th>\n",
       "      <td>Jul 29, 2017</td>\n",
       "      <td>2807.02</td>\n",
       "      <td>2808.76</td>\n",
       "      <td>2692.80</td>\n",
       "      <td>2726.45</td>\n",
       "      <td>8.037460e+08</td>\n",
       "      <td>4.62467e+10</td>\n",
       "    </tr>\n",
       "    <tr>\n",
       "      <th>3</th>\n",
       "      <td>Jul 28, 2017</td>\n",
       "      <td>2679.73</td>\n",
       "      <td>2897.45</td>\n",
       "      <td>2679.73</td>\n",
       "      <td>2809.01</td>\n",
       "      <td>1.380100e+09</td>\n",
       "      <td>4.41444e+10</td>\n",
       "    </tr>\n",
       "    <tr>\n",
       "      <th>4</th>\n",
       "      <td>Jul 27, 2017</td>\n",
       "      <td>2538.71</td>\n",
       "      <td>2693.32</td>\n",
       "      <td>2529.34</td>\n",
       "      <td>2671.78</td>\n",
       "      <td>7.891040e+08</td>\n",
       "      <td>4.18165e+10</td>\n",
       "    </tr>\n",
       "    <tr>\n",
       "      <th>...</th>\n",
       "      <td>...</td>\n",
       "      <td>...</td>\n",
       "      <td>...</td>\n",
       "      <td>...</td>\n",
       "      <td>...</td>\n",
       "      <td>...</td>\n",
       "      <td>...</td>\n",
       "    </tr>\n",
       "    <tr>\n",
       "      <th>1551</th>\n",
       "      <td>May 02, 2013</td>\n",
       "      <td>116.38</td>\n",
       "      <td>125.60</td>\n",
       "      <td>92.28</td>\n",
       "      <td>105.21</td>\n",
       "      <td>4.686270e+07</td>\n",
       "      <td>1.29219e+09</td>\n",
       "    </tr>\n",
       "    <tr>\n",
       "      <th>1552</th>\n",
       "      <td>May 01, 2013</td>\n",
       "      <td>139.00</td>\n",
       "      <td>139.89</td>\n",
       "      <td>107.72</td>\n",
       "      <td>116.99</td>\n",
       "      <td>4.686270e+07</td>\n",
       "      <td>1.54282e+09</td>\n",
       "    </tr>\n",
       "    <tr>\n",
       "      <th>1553</th>\n",
       "      <td>Apr 30, 2013</td>\n",
       "      <td>144.00</td>\n",
       "      <td>146.93</td>\n",
       "      <td>134.05</td>\n",
       "      <td>139.00</td>\n",
       "      <td>4.686270e+07</td>\n",
       "      <td>1.59778e+09</td>\n",
       "    </tr>\n",
       "    <tr>\n",
       "      <th>1554</th>\n",
       "      <td>Apr 29, 2013</td>\n",
       "      <td>134.44</td>\n",
       "      <td>147.49</td>\n",
       "      <td>134.00</td>\n",
       "      <td>144.54</td>\n",
       "      <td>4.686270e+07</td>\n",
       "      <td>1.49116e+09</td>\n",
       "    </tr>\n",
       "    <tr>\n",
       "      <th>1555</th>\n",
       "      <td>Apr 28, 2013</td>\n",
       "      <td>135.30</td>\n",
       "      <td>135.98</td>\n",
       "      <td>132.10</td>\n",
       "      <td>134.21</td>\n",
       "      <td>4.686270e+07</td>\n",
       "      <td>1.50052e+09</td>\n",
       "    </tr>\n",
       "  </tbody>\n",
       "</table>\n",
       "<p>1556 rows × 7 columns</p>\n",
       "</div>"
      ],
      "text/plain": [
       "              Date     Open     High      Low    Close        Volume  \\\n",
       "0     Jul 31, 2017  2763.24  2889.62  2720.61  2875.34  8.605750e+08   \n",
       "1     Jul 30, 2017  2724.39  2758.53  2644.85  2757.18  7.059430e+08   \n",
       "2     Jul 29, 2017  2807.02  2808.76  2692.80  2726.45  8.037460e+08   \n",
       "3     Jul 28, 2017  2679.73  2897.45  2679.73  2809.01  1.380100e+09   \n",
       "4     Jul 27, 2017  2538.71  2693.32  2529.34  2671.78  7.891040e+08   \n",
       "...            ...      ...      ...      ...      ...           ...   \n",
       "1551  May 02, 2013   116.38   125.60    92.28   105.21  4.686270e+07   \n",
       "1552  May 01, 2013   139.00   139.89   107.72   116.99  4.686270e+07   \n",
       "1553  Apr 30, 2013   144.00   146.93   134.05   139.00  4.686270e+07   \n",
       "1554  Apr 29, 2013   134.44   147.49   134.00   144.54  4.686270e+07   \n",
       "1555  Apr 28, 2013   135.30   135.98   132.10   134.21  4.686270e+07   \n",
       "\n",
       "       Market Cap  \n",
       "0     4.55358e+10  \n",
       "1     4.48907e+10  \n",
       "2     4.62467e+10  \n",
       "3     4.41444e+10  \n",
       "4     4.18165e+10  \n",
       "...           ...  \n",
       "1551  1.29219e+09  \n",
       "1552  1.54282e+09  \n",
       "1553  1.59778e+09  \n",
       "1554  1.49116e+09  \n",
       "1555  1.50052e+09  \n",
       "\n",
       "[1556 rows x 7 columns]"
      ]
     },
     "execution_count": 7,
     "metadata": {},
     "output_type": "execute_result"
    }
   ],
   "source": [
    "raw_training_data"
   ]
  },
  {
   "cell_type": "code",
   "execution_count": 8,
   "metadata": {},
   "outputs": [
    {
     "data": {
      "text/html": [
       "<div>\n",
       "<style scoped>\n",
       "    .dataframe tbody tr th:only-of-type {\n",
       "        vertical-align: middle;\n",
       "    }\n",
       "\n",
       "    .dataframe tbody tr th {\n",
       "        vertical-align: top;\n",
       "    }\n",
       "\n",
       "    .dataframe thead th {\n",
       "        text-align: right;\n",
       "    }\n",
       "</style>\n",
       "<table border=\"1\" class=\"dataframe\">\n",
       "  <thead>\n",
       "    <tr style=\"text-align: right;\">\n",
       "      <th></th>\n",
       "      <th>Date</th>\n",
       "      <th>Open</th>\n",
       "      <th>High</th>\n",
       "      <th>Low</th>\n",
       "      <th>Close</th>\n",
       "      <th>Volume</th>\n",
       "      <th>Market Cap</th>\n",
       "    </tr>\n",
       "  </thead>\n",
       "  <tbody>\n",
       "    <tr>\n",
       "      <th>0</th>\n",
       "      <td>Aug 07, 2017</td>\n",
       "      <td>3212.78</td>\n",
       "      <td>3397.68</td>\n",
       "      <td>3180.89</td>\n",
       "      <td>3378.94</td>\n",
       "      <td>1,482,280,000</td>\n",
       "      <td>52,987,300,000</td>\n",
       "    </tr>\n",
       "    <tr>\n",
       "      <th>1</th>\n",
       "      <td>Aug 06, 2017</td>\n",
       "      <td>3257.61</td>\n",
       "      <td>3293.29</td>\n",
       "      <td>3155.60</td>\n",
       "      <td>3213.94</td>\n",
       "      <td>1,105,030,000</td>\n",
       "      <td>53,720,900,000</td>\n",
       "    </tr>\n",
       "    <tr>\n",
       "      <th>2</th>\n",
       "      <td>Aug 05, 2017</td>\n",
       "      <td>2897.63</td>\n",
       "      <td>3290.01</td>\n",
       "      <td>2874.83</td>\n",
       "      <td>3252.91</td>\n",
       "      <td>1,945,700,000</td>\n",
       "      <td>47,778,200,000</td>\n",
       "    </tr>\n",
       "    <tr>\n",
       "      <th>3</th>\n",
       "      <td>Aug 04, 2017</td>\n",
       "      <td>2806.93</td>\n",
       "      <td>2899.33</td>\n",
       "      <td>2743.72</td>\n",
       "      <td>2895.89</td>\n",
       "      <td>1,002,120,000</td>\n",
       "      <td>46,276,200,000</td>\n",
       "    </tr>\n",
       "    <tr>\n",
       "      <th>4</th>\n",
       "      <td>Aug 03, 2017</td>\n",
       "      <td>2709.56</td>\n",
       "      <td>2813.31</td>\n",
       "      <td>2685.14</td>\n",
       "      <td>2804.73</td>\n",
       "      <td>804,797,000</td>\n",
       "      <td>44,666,400,000</td>\n",
       "    </tr>\n",
       "    <tr>\n",
       "      <th>5</th>\n",
       "      <td>Aug 02, 2017</td>\n",
       "      <td>2727.13</td>\n",
       "      <td>2762.53</td>\n",
       "      <td>2668.59</td>\n",
       "      <td>2710.67</td>\n",
       "      <td>1,094,950,000</td>\n",
       "      <td>44,950,800,000</td>\n",
       "    </tr>\n",
       "    <tr>\n",
       "      <th>6</th>\n",
       "      <td>Aug 01, 2017</td>\n",
       "      <td>2871.30</td>\n",
       "      <td>2921.35</td>\n",
       "      <td>2685.61</td>\n",
       "      <td>2718.26</td>\n",
       "      <td>1,324,670,000</td>\n",
       "      <td>47,321,800,000</td>\n",
       "    </tr>\n",
       "  </tbody>\n",
       "</table>\n",
       "</div>"
      ],
      "text/plain": [
       "           Date     Open     High      Low    Close         Volume  \\\n",
       "0  Aug 07, 2017  3212.78  3397.68  3180.89  3378.94  1,482,280,000   \n",
       "1  Aug 06, 2017  3257.61  3293.29  3155.60  3213.94  1,105,030,000   \n",
       "2  Aug 05, 2017  2897.63  3290.01  2874.83  3252.91  1,945,700,000   \n",
       "3  Aug 04, 2017  2806.93  2899.33  2743.72  2895.89  1,002,120,000   \n",
       "4  Aug 03, 2017  2709.56  2813.31  2685.14  2804.73    804,797,000   \n",
       "5  Aug 02, 2017  2727.13  2762.53  2668.59  2710.67  1,094,950,000   \n",
       "6  Aug 01, 2017  2871.30  2921.35  2685.61  2718.26  1,324,670,000   \n",
       "\n",
       "       Market Cap  \n",
       "0  52,987,300,000  \n",
       "1  53,720,900,000  \n",
       "2  47,778,200,000  \n",
       "3  46,276,200,000  \n",
       "4  44,666,400,000  \n",
       "5  44,950,800,000  \n",
       "6  47,321,800,000  "
      ]
     },
     "execution_count": 8,
     "metadata": {},
     "output_type": "execute_result"
    }
   ],
   "source": [
    "raw_test_data"
   ]
  },
  {
   "cell_type": "markdown",
   "metadata": {},
   "source": [
    "# Analysis"
   ]
  },
  {
   "cell_type": "markdown",
   "metadata": {},
   "source": [
    "Sort the dataframe by date to make a visualisation"
   ]
  },
  {
   "cell_type": "code",
   "execution_count": 9,
   "metadata": {},
   "outputs": [],
   "source": [
    "raw_training_data['Date']=pd.to_datetime(raw_training_data['Date'])"
   ]
  },
  {
   "cell_type": "code",
   "execution_count": 10,
   "metadata": {},
   "outputs": [
    {
     "name": "stderr",
     "output_type": "stream",
     "text": [
      "C:\\Users\\MIKED\\Anaconda3\\envs\\tensorflow\\lib\\site-packages\\pandas\\plotting\\_matplotlib\\converter.py:103: FutureWarning: Using an implicitly registered datetime converter for a matplotlib plotting method. The converter was registered by pandas on import. Future versions of pandas will require you to explicitly register matplotlib converters.\n",
      "\n",
      "To register the converters:\n",
      "\t>>> from pandas.plotting import register_matplotlib_converters\n",
      "\t>>> register_matplotlib_converters()\n",
      "  warnings.warn(msg, FutureWarning)\n"
     ]
    },
    {
     "data": {
      "text/plain": [
       "Text(0.5, 1.0, 'Evolution of Market Cap in Time')"
      ]
     },
     "execution_count": 10,
     "metadata": {},
     "output_type": "execute_result"
    },
    {
     "data": {
      "image/png": "[encoded data removed]",
      "text/plain": [
       "<Figure size 432x288 with 1 Axes>"
      ]
     },
     "metadata": {
      "needs_background": "light"
     },
     "output_type": "display_data"
    }
   ],
   "source": [
    "plt.scatter(raw_training_data['Date'],raw_training_data['Market Cap'])\n",
    "plt.xlabel(\"Date\",fontsize=20)\n",
    "plt.ylabel(\"Market Cap\",fontsize=20)\n",
    "plt.title(\"Evolution of Market Cap in Time\",fontsize=15)"
   ]
  },
  {
   "cell_type": "markdown",
   "metadata": {},
   "source": [
    "# Heatmap"
   ]
  },
  {
   "cell_type": "code",
   "execution_count": 11,
   "metadata": {},
   "outputs": [
    {
     "data": {
      "image/png": "[encoded data removed]",
      "text/plain": [
       "<Figure size 432x288 with 2 Axes>"
      ]
     },
     "metadata": {
      "needs_background": "light"
     },
     "output_type": "display_data"
    }
   ],
   "source": [
    "mask = np.triu(np.ones_like(raw_training_data.corr(), dtype=np.bool))\n",
    "heatmap = sns.heatmap(raw_training_data.corr(), mask=mask, vmin=-1, vmax=1, annot=True, cmap='BrBG')\n",
    "heatmap.set_title('Triangle Correlation Heatmap', fontdict={'fontsize':18}, pad=16);"
   ]
  },
  {
   "cell_type": "markdown",
   "metadata": {},
   "source": [
    "# Linear Regression 1 (remove Volume)\n"
   ]
  },
  {
   "cell_type": "markdown",
   "metadata": {},
   "source": [
    "We will use a Linear Regression by removing the  Volume parameter."
   ]
  },
  {
   "cell_type": "code",
   "execution_count": 12,
   "metadata": {},
   "outputs": [],
   "source": [
    "X_train=raw_training_data.iloc[:,1:-1]\n",
    "y_train=raw_training_data.iloc[:,-1:]"
   ]
  },
  {
   "cell_type": "markdown",
   "metadata": {},
   "source": [
    "We drop the Volume"
   ]
  },
  {
   "cell_type": "code",
   "execution_count": 13,
   "metadata": {},
   "outputs": [],
   "source": [
    "X_train=X_train.drop([\"Volume\"],axis=1)"
   ]
  },
  {
   "cell_type": "markdown",
   "metadata": {},
   "source": [
    "## Feature scaling"
   ]
  },
  {
   "cell_type": "code",
   "execution_count": 14,
   "metadata": {},
   "outputs": [],
   "source": [
    "standardscaler=StandardScaler()\n",
    "X_train=standardscaler.fit_transform(X_train)\n",
    "y_train=standardscaler.fit_transform(y_train)"
   ]
  },
  {
   "cell_type": "markdown",
   "metadata": {},
   "source": [
    "## Regression"
   ]
  },
  {
   "cell_type": "code",
   "execution_count": 15,
   "metadata": {},
   "outputs": [
    {
     "data": {
      "text/plain": [
       "0.9909580269226416"
      ]
     },
     "execution_count": 15,
     "metadata": {},
     "output_type": "execute_result"
    }
   ],
   "source": [
    "reg=LinearRegression().fit(X_train,y_train)\n",
    "reg.score(X_train,y_train)"
   ]
  },
  {
   "cell_type": "code",
   "execution_count": 16,
   "metadata": {},
   "outputs": [
    {
     "data": {
      "text/html": [
       "<div>\n",
       "<style scoped>\n",
       "    .dataframe tbody tr th:only-of-type {\n",
       "        vertical-align: middle;\n",
       "    }\n",
       "\n",
       "    .dataframe tbody tr th {\n",
       "        vertical-align: top;\n",
       "    }\n",
       "\n",
       "    .dataframe thead th {\n",
       "        text-align: right;\n",
       "    }\n",
       "</style>\n",
       "<table border=\"1\" class=\"dataframe\">\n",
       "  <thead>\n",
       "    <tr style=\"text-align: right;\">\n",
       "      <th></th>\n",
       "      <th>Date</th>\n",
       "      <th>Open</th>\n",
       "      <th>High</th>\n",
       "      <th>Low</th>\n",
       "      <th>Close</th>\n",
       "      <th>Volume</th>\n",
       "      <th>Market Cap</th>\n",
       "    </tr>\n",
       "  </thead>\n",
       "  <tbody>\n",
       "    <tr>\n",
       "      <th>0</th>\n",
       "      <td>Aug 07, 2017</td>\n",
       "      <td>3212.78</td>\n",
       "      <td>3397.68</td>\n",
       "      <td>3180.89</td>\n",
       "      <td>3378.94</td>\n",
       "      <td>1,482,280,000</td>\n",
       "      <td>52,987,300,000</td>\n",
       "    </tr>\n",
       "    <tr>\n",
       "      <th>1</th>\n",
       "      <td>Aug 06, 2017</td>\n",
       "      <td>3257.61</td>\n",
       "      <td>3293.29</td>\n",
       "      <td>3155.60</td>\n",
       "      <td>3213.94</td>\n",
       "      <td>1,105,030,000</td>\n",
       "      <td>53,720,900,000</td>\n",
       "    </tr>\n",
       "    <tr>\n",
       "      <th>2</th>\n",
       "      <td>Aug 05, 2017</td>\n",
       "      <td>2897.63</td>\n",
       "      <td>3290.01</td>\n",
       "      <td>2874.83</td>\n",
       "      <td>3252.91</td>\n",
       "      <td>1,945,700,000</td>\n",
       "      <td>47,778,200,000</td>\n",
       "    </tr>\n",
       "    <tr>\n",
       "      <th>3</th>\n",
       "      <td>Aug 04, 2017</td>\n",
       "      <td>2806.93</td>\n",
       "      <td>2899.33</td>\n",
       "      <td>2743.72</td>\n",
       "      <td>2895.89</td>\n",
       "      <td>1,002,120,000</td>\n",
       "      <td>46,276,200,000</td>\n",
       "    </tr>\n",
       "    <tr>\n",
       "      <th>4</th>\n",
       "      <td>Aug 03, 2017</td>\n",
       "      <td>2709.56</td>\n",
       "      <td>2813.31</td>\n",
       "      <td>2685.14</td>\n",
       "      <td>2804.73</td>\n",
       "      <td>804,797,000</td>\n",
       "      <td>44,666,400,000</td>\n",
       "    </tr>\n",
       "    <tr>\n",
       "      <th>5</th>\n",
       "      <td>Aug 02, 2017</td>\n",
       "      <td>2727.13</td>\n",
       "      <td>2762.53</td>\n",
       "      <td>2668.59</td>\n",
       "      <td>2710.67</td>\n",
       "      <td>1,094,950,000</td>\n",
       "      <td>44,950,800,000</td>\n",
       "    </tr>\n",
       "    <tr>\n",
       "      <th>6</th>\n",
       "      <td>Aug 01, 2017</td>\n",
       "      <td>2871.30</td>\n",
       "      <td>2921.35</td>\n",
       "      <td>2685.61</td>\n",
       "      <td>2718.26</td>\n",
       "      <td>1,324,670,000</td>\n",
       "      <td>47,321,800,000</td>\n",
       "    </tr>\n",
       "  </tbody>\n",
       "</table>\n",
       "</div>"
      ],
      "text/plain": [
       "           Date     Open     High      Low    Close         Volume  \\\n",
       "0  Aug 07, 2017  3212.78  3397.68  3180.89  3378.94  1,482,280,000   \n",
       "1  Aug 06, 2017  3257.61  3293.29  3155.60  3213.94  1,105,030,000   \n",
       "2  Aug 05, 2017  2897.63  3290.01  2874.83  3252.91  1,945,700,000   \n",
       "3  Aug 04, 2017  2806.93  2899.33  2743.72  2895.89  1,002,120,000   \n",
       "4  Aug 03, 2017  2709.56  2813.31  2685.14  2804.73    804,797,000   \n",
       "5  Aug 02, 2017  2727.13  2762.53  2668.59  2710.67  1,094,950,000   \n",
       "6  Aug 01, 2017  2871.30  2921.35  2685.61  2718.26  1,324,670,000   \n",
       "\n",
       "       Market Cap  \n",
       "0  52,987,300,000  \n",
       "1  53,720,900,000  \n",
       "2  47,778,200,000  \n",
       "3  46,276,200,000  \n",
       "4  44,666,400,000  \n",
       "5  44,950,800,000  \n",
       "6  47,321,800,000  "
      ]
     },
     "execution_count": 16,
     "metadata": {},
     "output_type": "execute_result"
    }
   ],
   "source": [
    "raw_test_data"
   ]
  },
  {
   "cell_type": "markdown",
   "metadata": {},
   "source": [
    "We transform the Market Cap into numbers from test_data"
   ]
  },
  {
   "cell_type": "code",
   "execution_count": 17,
   "metadata": {},
   "outputs": [],
   "source": [
    "X_test=raw_test_data['Market Cap'].str.replace(\",\",\"\")\n",
    "\n",
    "for i in range(0,len(X_test)):\n",
    "    if X_test[i] != \"-\":\n",
    "        X_test[i]=float(X_test[i])\n",
    "raw_test_data['Market Cap']=X_test"
   ]
  },
  {
   "cell_type": "markdown",
   "metadata": {},
   "source": [
    "We remove Volume"
   ]
  },
  {
   "cell_type": "code",
   "execution_count": 18,
   "metadata": {},
   "outputs": [],
   "source": [
    "X_test=raw_test_data.iloc[:,1:-1]\n",
    "X_test=X_test.drop(['Volume'],axis=1) # remove volume from test data\n",
    "y_test=raw_test_data.iloc[:,-1:]"
   ]
  },
  {
   "cell_type": "markdown",
   "metadata": {},
   "source": [
    "## Feature scaling test"
   ]
  },
  {
   "cell_type": "code",
   "execution_count": 19,
   "metadata": {},
   "outputs": [],
   "source": [
    "X_test=standardscaler.fit_transform(X_test)\n",
    "y_test=standardscaler.fit_transform(y_test)"
   ]
  },
  {
   "cell_type": "markdown",
   "metadata": {},
   "source": [
    "## Predictions"
   ]
  },
  {
   "cell_type": "code",
   "execution_count": 20,
   "metadata": {},
   "outputs": [
    {
     "data": {
      "text/plain": [
       "array([[ 1.45809385],\n",
       "       [ 1.72892136],\n",
       "       [-0.34381361],\n",
       "       [-0.60094721],\n",
       "       [-1.00065419],\n",
       "       [-0.8820102 ],\n",
       "       [-0.35958999]])"
      ]
     },
     "execution_count": 20,
     "metadata": {},
     "output_type": "execute_result"
    }
   ],
   "source": [
    "y_pred=reg.predict(X_test)\n",
    "y_pred"
   ]
  },
  {
   "cell_type": "code",
   "execution_count": 21,
   "metadata": {},
   "outputs": [
    {
     "data": {
      "text/plain": [
       "array([[ 1.39398511],\n",
       "       [ 1.60953766],\n",
       "       [-0.13659665],\n",
       "       [-0.57792697],\n",
       "       [-1.050932  ],\n",
       "       [-0.96736719],\n",
       "       [-0.27069995]])"
      ]
     },
     "execution_count": 21,
     "metadata": {},
     "output_type": "execute_result"
    }
   ],
   "source": [
    "y_test"
   ]
  },
  {
   "cell_type": "markdown",
   "metadata": {},
   "source": [
    "## Plot Data"
   ]
  },
  {
   "cell_type": "code",
   "execution_count": 22,
   "metadata": {
    "scrolled": true
   },
   "outputs": [
    {
     "data": {
      "text/plain": [
       "Text(0.5, 1.0, 'Evolution of Market Cap in Time')"
      ]
     },
     "execution_count": 22,
     "metadata": {},
     "output_type": "execute_result"
    },
    {
     "data": {
      "image/png": "[encoded data removed]",
      "text/plain": [
       "<Figure size 432x288 with 1 Axes>"
      ]
     },
     "metadata": {
      "needs_background": "light"
     },
     "output_type": "display_data"
    }
   ],
   "source": [
    "plt.scatter(raw_test_data['Date'],y_test,color=\"blue\")# test data\n",
    "plt.scatter(raw_test_data['Date'],y_pred,color=\"red\")# predicted data\n",
    "plt.xlabel(\"Date\",fontsize=20)\n",
    "plt.ylabel(\"Market Cap\",fontsize=20)\n",
    "plt.title(\"Evolution of Market Cap in Time\",fontsize=15)"
   ]
  },
  {
   "cell_type": "markdown",
   "metadata": {},
   "source": [
    "# linear regression 2 (we keep Volume)"
   ]
  },
  {
   "cell_type": "markdown",
   "metadata": {},
   "source": [
    "Just a linear regression that includes the Volume parameter to see if it is better to keep it rather than leave it"
   ]
  },
  {
   "cell_type": "code",
   "execution_count": 23,
   "metadata": {},
   "outputs": [],
   "source": [
    "X_train=raw_training_data.iloc[:,1:-1]\n",
    "y_train=raw_training_data.iloc[:,-1:]"
   ]
  },
  {
   "cell_type": "markdown",
   "metadata": {},
   "source": [
    "## Feature Scaling train"
   ]
  },
  {
   "cell_type": "code",
   "execution_count": 24,
   "metadata": {},
   "outputs": [],
   "source": [
    "X_train=standardscaler.fit_transform(X_train)\n",
    "y_train=standardscaler.fit_transform(y_train)"
   ]
  },
  {
   "cell_type": "markdown",
   "metadata": {},
   "source": [
    "## Regression"
   ]
  },
  {
   "cell_type": "code",
   "execution_count": 25,
   "metadata": {},
   "outputs": [
    {
     "data": {
      "text/plain": [
       "0.9941231868907588"
      ]
     },
     "execution_count": 25,
     "metadata": {},
     "output_type": "execute_result"
    }
   ],
   "source": [
    "reg=LinearRegression().fit(X_train,y_train)\n",
    "reg.score(X_train,y_train)"
   ]
  },
  {
   "cell_type": "markdown",
   "metadata": {},
   "source": [
    "We adapt Volume into numbers"
   ]
  },
  {
   "cell_type": "code",
   "execution_count": 26,
   "metadata": {},
   "outputs": [],
   "source": [
    "X_test=raw_test_data['Volume'].str.replace(\",\",\"\")\n",
    "for i in range(0,len(X_test)):\n",
    "    if X_test[i] != \"-\":\n",
    "        X_test[i]=float(X_test[i])\n",
    "raw_test_data['Volume']=X_test"
   ]
  },
  {
   "cell_type": "code",
   "execution_count": 27,
   "metadata": {},
   "outputs": [
    {
     "data": {
      "text/html": [
       "<div>\n",
       "<style scoped>\n",
       "    .dataframe tbody tr th:only-of-type {\n",
       "        vertical-align: middle;\n",
       "    }\n",
       "\n",
       "    .dataframe tbody tr th {\n",
       "        vertical-align: top;\n",
       "    }\n",
       "\n",
       "    .dataframe thead th {\n",
       "        text-align: right;\n",
       "    }\n",
       "</style>\n",
       "<table border=\"1\" class=\"dataframe\">\n",
       "  <thead>\n",
       "    <tr style=\"text-align: right;\">\n",
       "      <th></th>\n",
       "      <th>Market Cap</th>\n",
       "    </tr>\n",
       "  </thead>\n",
       "  <tbody>\n",
       "    <tr>\n",
       "      <th>0</th>\n",
       "      <td>5.29873e+10</td>\n",
       "    </tr>\n",
       "    <tr>\n",
       "      <th>1</th>\n",
       "      <td>5.37209e+10</td>\n",
       "    </tr>\n",
       "    <tr>\n",
       "      <th>2</th>\n",
       "      <td>4.77782e+10</td>\n",
       "    </tr>\n",
       "    <tr>\n",
       "      <th>3</th>\n",
       "      <td>4.62762e+10</td>\n",
       "    </tr>\n",
       "    <tr>\n",
       "      <th>4</th>\n",
       "      <td>4.46664e+10</td>\n",
       "    </tr>\n",
       "    <tr>\n",
       "      <th>5</th>\n",
       "      <td>4.49508e+10</td>\n",
       "    </tr>\n",
       "    <tr>\n",
       "      <th>6</th>\n",
       "      <td>4.73218e+10</td>\n",
       "    </tr>\n",
       "  </tbody>\n",
       "</table>\n",
       "</div>"
      ],
      "text/plain": [
       "    Market Cap\n",
       "0  5.29873e+10\n",
       "1  5.37209e+10\n",
       "2  4.77782e+10\n",
       "3  4.62762e+10\n",
       "4  4.46664e+10\n",
       "5  4.49508e+10\n",
       "6  4.73218e+10"
      ]
     },
     "execution_count": 27,
     "metadata": {},
     "output_type": "execute_result"
    }
   ],
   "source": [
    "X_test=raw_test_data.iloc[:,1:-1]\n",
    "y_test=raw_test_data.iloc[:,-1:]\n",
    "y_test"
   ]
  },
  {
   "cell_type": "markdown",
   "metadata": {},
   "source": [
    "## Feature Scaling test"
   ]
  },
  {
   "cell_type": "code",
   "execution_count": 28,
   "metadata": {},
   "outputs": [],
   "source": [
    "X_test=standardscaler.fit_transform(X_test)\n",
    "y_test=standardscaler.fit_transform(y_test)"
   ]
  },
  {
   "cell_type": "code",
   "execution_count": 29,
   "metadata": {},
   "outputs": [
    {
     "data": {
      "text/plain": [
       "array([[ 1.42139473],\n",
       "       [ 1.78721245],\n",
       "       [-0.61564608],\n",
       "       [-0.56918274],\n",
       "       [-1.01467663],\n",
       "       [-0.69247574],\n",
       "       [-0.31662599]])"
      ]
     },
     "execution_count": 29,
     "metadata": {},
     "output_type": "execute_result"
    }
   ],
   "source": [
    "y_pred=reg.predict(X_test)\n",
    "y_pred"
   ]
  },
  {
   "cell_type": "markdown",
   "metadata": {},
   "source": [
    "## Plot data"
   ]
  },
  {
   "cell_type": "code",
   "execution_count": 53,
   "metadata": {},
   "outputs": [
    {
     "data": {
      "text/plain": [
       "Text(0.5, 1.0, 'Evolution of Market Cap in Time')"
      ]
     },
     "execution_count": 53,
     "metadata": {},
     "output_type": "execute_result"
    },
    {
     "data": {
      "image/png": "[encoded data removed]",
      "text/plain": [
       "<Figure size 432x288 with 1 Axes>"
      ]
     },
     "metadata": {
      "needs_background": "light"
     },
     "output_type": "display_data"
    }
   ],
   "source": [
    "plt.scatter(raw_test_data['Date'],y_test,color=\"blue\")\n",
    "plt.scatter(raw_test_data['Date'],y_pred,color=\"red\")\n",
    "plt.xlabel(\"Date\",fontsize=20)\n",
    "plt.ylabel(\"Market Cap\",fontsize=20)\n",
    "plt.title(\"Evolution of Market Cap in Time\",fontsize=15)"
   ]
  },
  {
   "cell_type": "markdown",
   "metadata": {},
   "source": [
    "# Deep learning model"
   ]
  },
  {
   "cell_type": "markdown",
   "metadata": {},
   "source": [
    "I am trying to make a deep learning model , to see if it is more fitting to make accurate predictions."
   ]
  },
  {
   "cell_type": "code",
   "execution_count": 31,
   "metadata": {},
   "outputs": [],
   "source": [
    "X_train=raw_training_data.iloc[:,1:-1]\n",
    "y_train=raw_training_data.iloc[:,-1:]"
   ]
  },
  {
   "cell_type": "markdown",
   "metadata": {},
   "source": [
    "## standardize data"
   ]
  },
  {
   "cell_type": "code",
   "execution_count": 50,
   "metadata": {},
   "outputs": [],
   "source": [
    "standardscaler=StandardScaler()\n",
    "X_train = standardscaler.fit_transform(X_train)\n",
    "y_train = standardscaler.fit_transform(y_train)"
   ]
  },
  {
   "cell_type": "markdown",
   "metadata": {},
   "source": [
    "## Model definition"
   ]
  },
  {
   "cell_type": "code",
   "execution_count": 47,
   "metadata": {},
   "outputs": [],
   "source": [
    "model = tf.keras.Sequential()\n"
   ]
  },
  {
   "cell_type": "markdown",
   "metadata": {},
   "source": [
    "## compile model"
   ]
  },
  {
   "cell_type": "code",
   "execution_count": 48,
   "metadata": {},
   "outputs": [],
   "source": [
    "# compile the model\n",
    "opt = tf.keras.optimizers.SGD(learning_rate=0.01, momentum=0.9)\n",
    "\n",
    "model.compile(optimizer=opt, loss='binary_crossentropy', metrics=['accuracy'])"
   ]
  },
  {
   "cell_type": "markdown",
   "metadata": {},
   "source": [
    "## fit the model"
   ]
  },
  {
   "cell_type": "markdown",
   "metadata": {},
   "source": [
    "first prepare the hyperparameters."
   ]
  },
  {
   "cell_type": "code",
   "execution_count": 49,
   "metadata": {},
   "outputs": [],
   "source": [
    "epochs=100\n",
    "batch=32"
   ]
  },
  {
   "cell_type": "code",
   "execution_count": 51,
   "metadata": {},
   "outputs": [
    {
     "name": "stdout",
     "output_type": "stream",
     "text": [
      "Train on 1556 samples\n",
      "Epoch 1/100\n",
      "1556/1556 [==============================] - 0s 36us/sample - loss: -6.8223 - acc: 0.0000e+00\n",
      "Epoch 2/100\n",
      "1556/1556 [==============================] - 0s 14us/sample - loss: -6.8223 - acc: 0.0000e+00\n",
      "Epoch 3/100\n",
      "1556/1556 [==============================] - 0s 15us/sample - loss: -6.8223 - acc: 0.0000e+00\n",
      "Epoch 4/100\n",
      "1556/1556 [==============================] - 0s 15us/sample - loss: -6.8223 - acc: 0.0000e+00\n",
      "Epoch 5/100\n",
      "1556/1556 [==============================] - 0s 15us/sample - loss: -6.8223 - acc: 0.0000e+00\n",
      "Epoch 6/100\n",
      "1556/1556 [==============================] - 0s 15us/sample - loss: -6.8223 - acc: 0.0000e+00\n",
      "Epoch 7/100\n",
      "1556/1556 [==============================] - 0s 15us/sample - loss: -6.8223 - acc: 0.0000e+00\n",
      "Epoch 8/100\n",
      "1556/1556 [==============================] - 0s 15us/sample - loss: -6.8223 - acc: 0.0000e+00\n",
      "Epoch 9/100\n",
      "1556/1556 [==============================] - 0s 15us/sample - loss: -6.8223 - acc: 0.0000e+00\n",
      "Epoch 10/100\n",
      "1556/1556 [==============================] - 0s 15us/sample - loss: -6.8223 - acc: 0.0000e+00\n",
      "Epoch 11/100\n",
      "1556/1556 [==============================] - 0s 15us/sample - loss: -6.8223 - acc: 0.0000e+00\n",
      "Epoch 12/100\n",
      "1556/1556 [==============================] - 0s 15us/sample - loss: -6.8223 - acc: 0.0000e+00\n",
      "Epoch 13/100\n",
      "1556/1556 [==============================] - 0s 15us/sample - loss: -6.8223 - acc: 0.0000e+00\n",
      "Epoch 14/100\n",
      "1556/1556 [==============================] - 0s 15us/sample - loss: -6.8223 - acc: 0.0000e+00\n",
      "Epoch 15/100\n",
      "1556/1556 [==============================] - 0s 15us/sample - loss: -6.8223 - acc: 0.0000e+00\n",
      "Epoch 16/100\n",
      "1556/1556 [==============================] - 0s 15us/sample - loss: -6.8223 - acc: 0.0000e+00\n",
      "Epoch 17/100\n",
      "1556/1556 [==============================] - 0s 15us/sample - loss: -6.8223 - acc: 0.0000e+00\n",
      "Epoch 18/100\n",
      "1556/1556 [==============================] - 0s 15us/sample - loss: -6.8223 - acc: 0.0000e+00\n",
      "Epoch 19/100\n",
      "1556/1556 [==============================] - 0s 15us/sample - loss: -6.8223 - acc: 0.0000e+00\n",
      "Epoch 20/100\n",
      "1556/1556 [==============================] - 0s 15us/sample - loss: -6.8223 - acc: 0.0000e+00\n",
      "Epoch 21/100\n",
      "1556/1556 [==============================] - 0s 15us/sample - loss: -6.8223 - acc: 0.0000e+00\n",
      "Epoch 22/100\n",
      "1556/1556 [==============================] - 0s 15us/sample - loss: -6.8223 - acc: 0.0000e+00\n",
      "Epoch 23/100\n",
      "1556/1556 [==============================] - 0s 15us/sample - loss: -6.8223 - acc: 0.0000e+00\n",
      "Epoch 24/100\n",
      "1556/1556 [==============================] - 0s 16us/sample - loss: -6.8223 - acc: 0.0000e+00\n",
      "Epoch 25/100\n",
      "1556/1556 [==============================] - 0s 16us/sample - loss: -6.8223 - acc: 0.0000e+00\n",
      "Epoch 26/100\n",
      "1556/1556 [==============================] - 0s 15us/sample - loss: -6.8223 - acc: 0.0000e+00\n",
      "Epoch 27/100\n",
      "1556/1556 [==============================] - 0s 16us/sample - loss: -6.8223 - acc: 0.0000e+00\n",
      "Epoch 28/100\n",
      "1556/1556 [==============================] - 0s 15us/sample - loss: -6.8223 - acc: 0.0000e+00\n",
      "Epoch 29/100\n",
      "1556/1556 [==============================] - 0s 15us/sample - loss: -6.8223 - acc: 0.0000e+00\n",
      "Epoch 30/100\n",
      "1556/1556 [==============================] - 0s 14us/sample - loss: -6.8223 - acc: 0.0000e+00\n",
      "Epoch 31/100\n",
      "1556/1556 [==============================] - 0s 15us/sample - loss: -6.8223 - acc: 0.0000e+00\n",
      "Epoch 32/100\n",
      "1556/1556 [==============================] - 0s 15us/sample - loss: -6.8223 - acc: 0.0000e+00\n",
      "Epoch 33/100\n",
      "1556/1556 [==============================] - 0s 15us/sample - loss: -6.8223 - acc: 0.0000e+00\n",
      "Epoch 34/100\n",
      "1556/1556 [==============================] - 0s 15us/sample - loss: -6.8223 - acc: 0.0000e+00\n",
      "Epoch 35/100\n",
      "1556/1556 [==============================] - 0s 15us/sample - loss: -6.8223 - acc: 0.0000e+00\n",
      "Epoch 36/100\n",
      "1556/1556 [==============================] - 0s 14us/sample - loss: -6.8223 - acc: 0.0000e+00\n",
      "Epoch 37/100\n",
      "1556/1556 [==============================] - 0s 15us/sample - loss: -6.8223 - acc: 0.0000e+00\n",
      "Epoch 38/100\n",
      "1556/1556 [==============================] - 0s 14us/sample - loss: -6.8223 - acc: 0.0000e+00\n",
      "Epoch 39/100\n",
      "1556/1556 [==============================] - 0s 14us/sample - loss: -6.8223 - acc: 0.0000e+00\n",
      "Epoch 40/100\n",
      "1556/1556 [==============================] - 0s 14us/sample - loss: -6.8223 - acc: 0.0000e+00\n",
      "Epoch 41/100\n",
      "1556/1556 [==============================] - 0s 15us/sample - loss: -6.8223 - acc: 0.0000e+00\n",
      "Epoch 42/100\n",
      "1556/1556 [==============================] - 0s 16us/sample - loss: -6.8223 - acc: 0.0000e+00\n",
      "Epoch 43/100\n",
      "1556/1556 [==============================] - 0s 14us/sample - loss: -6.8223 - acc: 0.0000e+00\n",
      "Epoch 44/100\n",
      "1556/1556 [==============================] - 0s 15us/sample - loss: -6.8223 - acc: 0.0000e+00\n",
      "Epoch 45/100\n",
      "1556/1556 [==============================] - 0s 15us/sample - loss: -6.8223 - acc: 0.0000e+00\n",
      "Epoch 46/100\n",
      "1556/1556 [==============================] - 0s 15us/sample - loss: -6.8223 - acc: 0.0000e+00\n",
      "Epoch 47/100\n",
      "1556/1556 [==============================] - 0s 14us/sample - loss: -6.8223 - acc: 0.0000e+00\n",
      "Epoch 48/100\n",
      "1556/1556 [==============================] - 0s 15us/sample - loss: -6.8223 - acc: 0.0000e+00\n",
      "Epoch 49/100\n",
      "1556/1556 [==============================] - 0s 15us/sample - loss: -6.8223 - acc: 0.0000e+00\n",
      "Epoch 50/100\n",
      "1556/1556 [==============================] - 0s 15us/sample - loss: -6.8223 - acc: 0.0000e+00\n",
      "Epoch 51/100\n",
      "1556/1556 [==============================] - 0s 15us/sample - loss: -6.8223 - acc: 0.0000e+00\n",
      "Epoch 52/100\n",
      "1556/1556 [==============================] - 0s 16us/sample - loss: -6.8223 - acc: 0.0000e+00\n",
      "Epoch 53/100\n",
      "1556/1556 [==============================] - 0s 15us/sample - loss: -6.8223 - acc: 0.0000e+00\n",
      "Epoch 54/100\n",
      "1556/1556 [==============================] - 0s 15us/sample - loss: -6.8223 - acc: 0.0000e+00\n",
      "Epoch 55/100\n",
      "1556/1556 [==============================] - 0s 15us/sample - loss: -6.8223 - acc: 0.0000e+00\n",
      "Epoch 56/100\n",
      "1556/1556 [==============================] - 0s 15us/sample - loss: -6.8223 - acc: 0.0000e+00\n",
      "Epoch 57/100\n",
      "1556/1556 [==============================] - 0s 15us/sample - loss: -6.8223 - acc: 0.0000e+00\n",
      "Epoch 58/100\n",
      "1556/1556 [==============================] - 0s 15us/sample - loss: -6.8223 - acc: 0.0000e+00\n",
      "Epoch 59/100\n",
      "1556/1556 [==============================] - 0s 15us/sample - loss: -6.8223 - acc: 0.0000e+00\n",
      "Epoch 60/100\n",
      "1556/1556 [==============================] - 0s 15us/sample - loss: -6.8223 - acc: 0.0000e+00\n",
      "Epoch 61/100\n",
      "1556/1556 [==============================] - 0s 15us/sample - loss: -6.8223 - acc: 0.0000e+00\n",
      "Epoch 62/100\n",
      "1556/1556 [==============================] - 0s 17us/sample - loss: -6.8223 - acc: 0.0000e+00\n",
      "Epoch 63/100\n",
      "1556/1556 [==============================] - 0s 15us/sample - loss: -6.8223 - acc: 0.0000e+00\n",
      "Epoch 64/100\n",
      "1556/1556 [==============================] - 0s 16us/sample - loss: -6.8223 - acc: 0.0000e+00\n",
      "Epoch 65/100\n",
      "1556/1556 [==============================] - 0s 16us/sample - loss: -6.8223 - acc: 0.0000e+00\n",
      "Epoch 66/100\n",
      "1556/1556 [==============================] - 0s 15us/sample - loss: -6.8223 - acc: 0.0000e+00\n",
      "Epoch 67/100\n",
      "1556/1556 [==============================] - 0s 15us/sample - loss: -6.8223 - acc: 0.0000e+00\n",
      "Epoch 68/100\n",
      "1556/1556 [==============================] - 0s 15us/sample - loss: -6.8223 - acc: 0.0000e+00\n",
      "Epoch 69/100\n",
      "1556/1556 [==============================] - 0s 16us/sample - loss: -6.8223 - acc: 0.0000e+00\n",
      "Epoch 70/100\n",
      "1556/1556 [==============================] - 0s 15us/sample - loss: -6.8223 - acc: 0.0000e+00\n",
      "Epoch 71/100\n",
      "1556/1556 [==============================] - 0s 15us/sample - loss: -6.8223 - acc: 0.0000e+00\n",
      "Epoch 72/100\n",
      "1556/1556 [==============================] - 0s 15us/sample - loss: -6.8223 - acc: 0.0000e+00\n",
      "Epoch 73/100\n",
      "1556/1556 [==============================] - 0s 15us/sample - loss: -6.8223 - acc: 0.0000e+00\n",
      "Epoch 74/100\n",
      "1556/1556 [==============================] - 0s 15us/sample - loss: -6.8223 - acc: 0.0000e+00\n",
      "Epoch 75/100\n",
      "1556/1556 [==============================] - 0s 17us/sample - loss: -6.8223 - acc: 0.0000e+00\n",
      "Epoch 76/100\n",
      "1556/1556 [==============================] - ETA: 0s - loss: -7.9906 - acc: 0.0000e+ - 0s 15us/sample - loss: -6.8223 - acc: 0.0000e+00\n",
      "Epoch 77/100\n"
     ]
    },
    {
     "name": "stdout",
     "output_type": "stream",
     "text": [
      "1556/1556 [==============================] - 0s 16us/sample - loss: -6.8223 - acc: 0.0000e+00\n",
      "Epoch 78/100\n",
      "1556/1556 [==============================] - 0s 16us/sample - loss: -6.8223 - acc: 0.0000e+00\n",
      "Epoch 79/100\n",
      "1556/1556 [==============================] - 0s 16us/sample - loss: -6.8223 - acc: 0.0000e+00\n",
      "Epoch 80/100\n",
      "1556/1556 [==============================] - 0s 15us/sample - loss: -6.8223 - acc: 0.0000e+00\n",
      "Epoch 81/100\n",
      "1556/1556 [==============================] - 0s 16us/sample - loss: -6.8223 - acc: 0.0000e+00\n",
      "Epoch 82/100\n",
      "1556/1556 [==============================] - 0s 15us/sample - loss: -6.8223 - acc: 0.0000e+00\n",
      "Epoch 83/100\n",
      "1556/1556 [==============================] - 0s 14us/sample - loss: -6.8223 - acc: 0.0000e+00\n",
      "Epoch 84/100\n",
      "1556/1556 [==============================] - 0s 13us/sample - loss: -6.8223 - acc: 0.0000e+00\n",
      "Epoch 85/100\n",
      "1556/1556 [==============================] - 0s 15us/sample - loss: -6.8223 - acc: 0.0000e+00\n",
      "Epoch 86/100\n",
      "1556/1556 [==============================] - 0s 14us/sample - loss: -6.8223 - acc: 0.0000e+00\n",
      "Epoch 87/100\n",
      "1556/1556 [==============================] - 0s 15us/sample - loss: -6.8223 - acc: 0.0000e+00\n",
      "Epoch 88/100\n",
      "1556/1556 [==============================] - 0s 15us/sample - loss: -6.8223 - acc: 0.0000e+00\n",
      "Epoch 89/100\n",
      "1556/1556 [==============================] - 0s 14us/sample - loss: -6.8223 - acc: 0.0000e+00\n",
      "Epoch 90/100\n",
      "1556/1556 [==============================] - 0s 15us/sample - loss: -6.8223 - acc: 0.0000e+00\n",
      "Epoch 91/100\n",
      "1556/1556 [==============================] - 0s 15us/sample - loss: -6.8223 - acc: 0.0000e+00\n",
      "Epoch 92/100\n",
      "1556/1556 [==============================] - 0s 15us/sample - loss: -6.8223 - acc: 0.0000e+00\n",
      "Epoch 93/100\n",
      "1556/1556 [==============================] - 0s 16us/sample - loss: -6.8223 - acc: 0.0000e+00\n",
      "Epoch 94/100\n",
      "1556/1556 [==============================] - 0s 16us/sample - loss: -6.8223 - acc: 0.0000e+00\n",
      "Epoch 95/100\n",
      "1556/1556 [==============================] - 0s 17us/sample - loss: -6.8223 - acc: 0.0000e+00\n",
      "Epoch 96/100\n",
      "1556/1556 [==============================] - 0s 15us/sample - loss: -6.8223 - acc: 0.0000e+00\n",
      "Epoch 97/100\n",
      "1556/1556 [==============================] - 0s 15us/sample - loss: -6.8223 - acc: 0.0000e+00\n",
      "Epoch 98/100\n",
      "1556/1556 [==============================] - 0s 17us/sample - loss: -6.8223 - acc: 0.0000e+00\n",
      "Epoch 99/100\n",
      "1556/1556 [==============================] - 0s 15us/sample - loss: -6.8223 - acc: 0.0000e+00\n",
      "Epoch 100/100\n",
      "1556/1556 [==============================] - 0s 15us/sample - loss: -6.8223 - acc: 0.0000e+00\n"
     ]
    },
    {
     "data": {
      "text/plain": [
       "<tensorflow.python.keras.callbacks.History at 0x14bdaa7e898>"
      ]
     },
     "execution_count": 51,
     "metadata": {},
     "output_type": "execute_result"
    }
   ],
   "source": [
    "model.fit(X_train, y_train, epochs=epochs, batch_size=batch)"
   ]
  },
  {
   "cell_type": "markdown",
   "metadata": {},
   "source": [
    "## Evaluate the model"
   ]
  },
  {
   "cell_type": "code",
   "execution_count": 38,
   "metadata": {},
   "outputs": [],
   "source": [
    "loss = model.evaluate(X_train, y_train, verbose=0)"
   ]
  },
  {
   "cell_type": "code",
   "execution_count": null,
   "metadata": {},
   "outputs": [],
   "source": []
  },
  {
   "cell_type": "markdown",
   "metadata": {},
   "source": [
    "## Make Predictions"
   ]
  },
  {
   "cell_type": "code",
   "execution_count": null,
   "metadata": {},
   "outputs": [],
   "source": []
  },
  {
   "cell_type": "code",
   "execution_count": null,
   "metadata": {},
   "outputs": [],
   "source": []
  }
 ],
 "metadata": {
  "kernelspec": {
   "display_name": "Python 3",
   "language": "python",
   "name": "python3"
  },
  "language_info": {
   "codemirror_mode": {
    "name": "ipython",
    "version": 3
   },
   "file_extension": ".py",
   "mimetype": "text/x-python",
   "name": "python",
   "nbconvert_exporter": "python",
   "pygments_lexer": "ipython3",
   "version": "3.6.10"
  }
 },
 "nbformat": 4,
 "nbformat_minor": 2
}
